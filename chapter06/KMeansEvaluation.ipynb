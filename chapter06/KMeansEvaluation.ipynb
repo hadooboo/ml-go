{
 "cells": [
  {
   "cell_type": "code",
   "execution_count": 1,
   "id": "04ac5a37",
   "metadata": {},
   "outputs": [],
   "source": [
    "import (\n",
    "    \"fmt\"\n",
    "    \"log\"\n",
    "    \"os\"\n",
    "\n",
    "    \"gonum.org/v1/gonum/floats\"\n",
    "    \"github.com/go-gota/gota/dataframe\"\n",
    ")"
   ]
  },
  {
   "cell_type": "code",
   "execution_count": 2,
   "id": "d766a3b0",
   "metadata": {},
   "outputs": [],
   "source": [
    "f, err := os.Open(\"fleet_data.csv\")\n",
    "if err != nil {\n",
    "    log.Fatal(err)\n",
    "}\n",
    "driverDF := dataframe.ReadCSV(f)\n",
    "f.Close()"
   ]
  },
  {
   "cell_type": "code",
   "execution_count": 3,
   "id": "4c61f496",
   "metadata": {},
   "outputs": [],
   "source": [
    "distances := driverDF.Col(\"Distance_Feature\").Float()\n",
    "\n",
    "var clusterOne [][]float64\n",
    "var clusterTwo [][]float64\n",
    "\n",
    "for i, speed := range driverDF.Col(\"Speeding_Feature\").Float() {\n",
    "    distanceOne := floats.Distance([]float64{distances[i], speed}, []float64{50.05, 8.83}, 2)\n",
    "    distanceTwo := floats.Distance([]float64{distances[i], speed}, []float64{180.02, 18.29}, 2)\n",
    "    if distanceOne < distanceTwo {\n",
    "        clusterOne = append(clusterOne, []float64{distances[i], speed})\n",
    "        continue\n",
    "    }\n",
    "    clusterTwo = append(clusterTwo, []float64{distances[i], speed})\n",
    "}"
   ]
  },
  {
   "cell_type": "code",
   "execution_count": 4,
   "id": "69bad238",
   "metadata": {},
   "outputs": [],
   "source": [
    "func withinClusterMean(cluster [][]float64, centroid []float64) float64 {\n",
    "\n",
    "    var meanDistance float64\n",
    "\n",
    "    for _, point := range cluster {\n",
    "        meanDistance += floats.Distance(point, centroid, 2) / float64(len(cluster))\n",
    "    }\n",
    "\n",
    "    return meanDistance\n",
    "}"
   ]
  },
  {
   "cell_type": "code",
   "execution_count": 5,
   "id": "3867aa62",
   "metadata": {},
   "outputs": [
    {
     "name": "stdout",
     "output_type": "stream",
     "text": [
      "\n",
      "Cluster 1 Metric: 11.68\n",
      "\n",
      "Cluster 2 Metric: 23.52\n"
     ]
    }
   ],
   "source": [
    "_, _ = fmt.Printf(\"\\nCluster 1 Metric: %0.2f\\n\", withinClusterMean(clusterOne, []float64{50.05, 8.83}))\n",
    "_, _ = fmt.Printf(\"\\nCluster 2 Metric: %0.2f\\n\", withinClusterMean(clusterTwo, []float64{180.02, 18.29}))"
   ]
  },
  {
   "cell_type": "code",
   "execution_count": null,
   "id": "6729c19b",
   "metadata": {},
   "outputs": [],
   "source": []
  }
 ],
 "metadata": {
  "kernelspec": {
   "display_name": "Go",
   "language": "go",
   "name": "gophernotes"
  },
  "language_info": {
   "codemirror_mode": "",
   "file_extension": ".go",
   "mimetype": "",
   "name": "go",
   "nbconvert_exporter": "",
   "pygments_lexer": "",
   "version": "go1.17.10"
  }
 },
 "nbformat": 4,
 "nbformat_minor": 5
}
