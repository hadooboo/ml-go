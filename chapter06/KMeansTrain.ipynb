{
 "cells": [
  {
   "cell_type": "code",
   "execution_count": 1,
   "id": "a7bcccd2",
   "metadata": {},
   "outputs": [],
   "source": [
    "import (\n",
    "    \"encoding/csv\"\n",
    "    \"fmt\"\n",
    "    \"io\"\n",
    "    \"log\"\n",
    "    \"os\"\n",
    "    \"strconv\"\n",
    "\n",
    "    \"github.com/mash/gokmeans\"\n",
    ")"
   ]
  },
  {
   "cell_type": "code",
   "execution_count": 2,
   "id": "f0065f68",
   "metadata": {},
   "outputs": [
    {
     "name": "stdout",
     "output_type": "stream",
     "text": [
      "The centroids for our clusters are:\n",
      "[180.01707499999992 18.29]\n",
      "[50.04763437499999 8.82875]\n"
     ]
    }
   ],
   "source": [
    "f, err := os.Open(\"fleet_data.csv\")\n",
    "if err != nil {\n",
    "    log.Fatal(err)\n",
    "}\n",
    "r := csv.NewReader(f)\n",
    "r.FieldsPerRecord = 3\n",
    "\n",
    "var data []gokmeans.Node\n",
    "\n",
    "for {\n",
    "\n",
    "    record, err := r.Read()\n",
    "    if err == io.EOF {\n",
    "        break\n",
    "    }\n",
    "    if err != nil {\n",
    "        log.Fatal(err)\n",
    "    }\n",
    "\n",
    "    if record[0] == \"Driver_ID\" {\n",
    "        continue\n",
    "    }\n",
    "\n",
    "    var point []float64\n",
    "\n",
    "    for i := 1; i < 3; i++ {\n",
    "\n",
    "        val, err := strconv.ParseFloat(record[i], 64)\n",
    "        if err != nil {\n",
    "            log.Fatal(err)\n",
    "        }\n",
    "\n",
    "        point = append(point, val)\n",
    "    }\n",
    "\n",
    "    data = append(data, gokmeans.Node{point[0], point[1]})\n",
    "}\n",
    "\n",
    "success, centroids := gokmeans.Train(data, 2, 50)\n",
    "if !success {\n",
    "    log.Fatal(\"Could not generate clusters\")\n",
    "}\n",
    "\n",
    "fmt.Println(\"The centroids for our clusters are:\")\n",
    "for _, centroid := range centroids {\n",
    "    fmt.Println(centroid)\n",
    "}\n",
    "\n",
    "f.Close()"
   ]
  },
  {
   "cell_type": "code",
   "execution_count": null,
   "id": "1a6933e1",
   "metadata": {},
   "outputs": [],
   "source": []
  }
 ],
 "metadata": {
  "kernelspec": {
   "display_name": "Go",
   "language": "go",
   "name": "gophernotes"
  },
  "language_info": {
   "codemirror_mode": "",
   "file_extension": ".go",
   "mimetype": "",
   "name": "go",
   "nbconvert_exporter": "",
   "pygments_lexer": "",
   "version": "go1.17.10"
  }
 },
 "nbformat": 4,
 "nbformat_minor": 5
}
