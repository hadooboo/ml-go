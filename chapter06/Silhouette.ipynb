{
 "cells": [
  {
   "cell_type": "code",
   "execution_count": 1,
   "id": "b0625c53",
   "metadata": {},
   "outputs": [],
   "source": [
    "import (\n",
    "    \"fmt\"\n",
    "    \"log\"\n",
    "    \"os\"\n",
    "\n",
    "    \"gonum.org/v1/gonum/floats\"\n",
    "    \"github.com/go-gota/gota/dataframe\"\n",
    "    \"github.com/go-gota/gota/series\"\n",
    ")"
   ]
  },
  {
   "cell_type": "code",
   "execution_count": 2,
   "id": "5c391fa4",
   "metadata": {},
   "outputs": [],
   "source": [
    "type centroid []float64"
   ]
  },
  {
   "cell_type": "code",
   "execution_count": 3,
   "id": "c1df18a5",
   "metadata": {},
   "outputs": [],
   "source": [
    "irisFile, err := os.Open(\"iris.csv\")\n",
    "if err != nil {\n",
    "    log.Fatal(err)\n",
    "}\n",
    "irisDF := dataframe.ReadCSV(irisFile)\n",
    "irisFile.Close()"
   ]
  },
  {
   "cell_type": "code",
   "execution_count": 4,
   "id": "c667e27a",
   "metadata": {},
   "outputs": [],
   "source": [
    "speciesNames := []string{\n",
    "    \"Iris-setosa\",\n",
    "    \"Iris-versicolor\",\n",
    "    \"Iris-virginica\",\n",
    "}"
   ]
  },
  {
   "cell_type": "code",
   "execution_count": 5,
   "id": "07944507",
   "metadata": {},
   "outputs": [],
   "source": [
    "centroids := make(map[string]centroid)\n",
    "\n",
    "clusters := make(map[string]dataframe.DataFrame)\n",
    "\n",
    "for _, species := range speciesNames {\n",
    "\n",
    "    filter := dataframe.F{\n",
    "        Colname:    \"species\",\n",
    "        Comparator: series.Eq,\n",
    "        Comparando: species,\n",
    "    }\n",
    "    filtered := irisDF.Filter(filter)\n",
    "\n",
    "    clusters[species] = filtered\n",
    "\n",
    "    summaryDF := filtered.Describe()\n",
    "\n",
    "    var c centroid\n",
    "    for _, feature := range summaryDF.Names() {\n",
    "\n",
    "        if feature == \"column\" || feature == \"species\" {\n",
    "            continue\n",
    "        }\n",
    "        c = append(c, summaryDF.Col(feature).Float()[0])\n",
    "    }\n",
    "\n",
    "    centroids[species] = c\n",
    "}"
   ]
  },
  {
   "cell_type": "code",
   "execution_count": 6,
   "id": "fc5322ec",
   "metadata": {},
   "outputs": [],
   "source": [
    "func dfFloatRow(df dataframe.DataFrame, names []string, idx int) []float64 {\n",
    "    var row []float64\n",
    "    for _, name := range names {\n",
    "        row = append(row, df.Col(name).Float()[idx])\n",
    "    }\n",
    "    return row\n",
    "}"
   ]
  },
  {
   "cell_type": "code",
   "execution_count": 7,
   "id": "a563b32a",
   "metadata": {},
   "outputs": [
    {
     "name": "stdout",
     "output_type": "stream",
     "text": [
      "\n",
      "Average Silhouette Coefficient: 0.51\n",
      "\n"
     ]
    }
   ],
   "source": [
    "labels := irisDF.Col(\"species\").Records()\n",
    "floatColumns := []string{\n",
    "    \"sepal_length\",\n",
    "    \"sepal_width\",\n",
    "    \"petal_length\",\n",
    "    \"petal_width\",\n",
    "}\n",
    "\n",
    "var silhouette float64\n",
    "\n",
    "for idx, label := range labels {\n",
    "\n",
    "    var a float64\n",
    "\n",
    "    for i := 0; i < clusters[label].Nrow(); i++ {\n",
    "\n",
    "        current := dfFloatRow(irisDF, floatColumns, idx)\n",
    "        other := dfFloatRow(clusters[label], floatColumns, i)\n",
    "\n",
    "        a += floats.Distance(current, other, 2) / float64(clusters[label].Nrow())\n",
    "    }\n",
    "\n",
    "    var otherCluster string\n",
    "    var distanceToCluster float64\n",
    "    for _, species := range speciesNames {\n",
    "\n",
    "        if species == label {\n",
    "            continue\n",
    "        }\n",
    "\n",
    "        distanceForThisCluster := floats.Distance(centroids[label], centroids[species], 2)\n",
    "\n",
    "        if distanceToCluster == 0.0 || distanceForThisCluster < distanceToCluster {\n",
    "            otherCluster = species\n",
    "            distanceToCluster = distanceForThisCluster\n",
    "        }\n",
    "    }\n",
    "\n",
    "    var b float64\n",
    "\n",
    "    for i := 0; i < clusters[otherCluster].Nrow(); i++ {\n",
    "\n",
    "        current := dfFloatRow(irisDF, floatColumns, idx)\n",
    "        other := dfFloatRow(clusters[otherCluster], floatColumns, i)\n",
    "\n",
    "        b += floats.Distance(current, other, 2) / float64(clusters[otherCluster].Nrow())\n",
    "    }\n",
    "\n",
    "    if a > b {\n",
    "        silhouette += ((b - a) / a) / float64(len(labels))\n",
    "    }\n",
    "    silhouette += ((b - a) / b) / float64(len(labels))\n",
    "}\n",
    "\n",
    "_, _ = fmt.Printf(\"\\nAverage Silhouette Coefficient: %0.2f\\n\\n\", silhouette)"
   ]
  },
  {
   "cell_type": "code",
   "execution_count": null,
   "id": "359322fc",
   "metadata": {},
   "outputs": [],
   "source": []
  }
 ],
 "metadata": {
  "kernelspec": {
   "display_name": "Go",
   "language": "go",
   "name": "gophernotes"
  },
  "language_info": {
   "codemirror_mode": "",
   "file_extension": ".go",
   "mimetype": "",
   "name": "go",
   "nbconvert_exporter": "",
   "pygments_lexer": "",
   "version": "go1.17.10"
  }
 },
 "nbformat": 4,
 "nbformat_minor": 5
}
