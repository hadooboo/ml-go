{
 "cells": [
  {
   "cell_type": "code",
   "execution_count": 1,
   "id": "1324572c",
   "metadata": {},
   "outputs": [],
   "source": [
    "import (\n",
    "    \"fmt\"\n",
    "    \"log\"\n",
    "    \"os\"\n",
    "\n",
    "    \"github.com/go-gota/gota/dataframe\"\n",
    "    \"github.com/go-gota/gota/series\"\n",
    ")"
   ]
  },
  {
   "cell_type": "code",
   "execution_count": 2,
   "id": "e680bb93",
   "metadata": {},
   "outputs": [],
   "source": [
    "type centroid []float64"
   ]
  },
  {
   "cell_type": "code",
   "execution_count": 3,
   "id": "606ef560",
   "metadata": {},
   "outputs": [],
   "source": [
    "irisFile, err := os.Open(\"iris.csv\")\n",
    "if err != nil {\n",
    "    log.Fatal(err)\n",
    "}\n",
    "irisDF := dataframe.ReadCSV(irisFile)\n",
    "irisFile.Close()"
   ]
  },
  {
   "cell_type": "code",
   "execution_count": 4,
   "id": "aaa801b4",
   "metadata": {},
   "outputs": [],
   "source": [
    "speciesNames := []string{\n",
    "    \"Iris-setosa\",\n",
    "    \"Iris-versicolor\",\n",
    "    \"Iris-virginica\",\n",
    "}"
   ]
  },
  {
   "cell_type": "code",
   "execution_count": 5,
   "id": "51b6d937",
   "metadata": {},
   "outputs": [
    {
     "name": "stdout",
     "output_type": "stream",
     "text": [
      "Iris-setosa centroid: [5.005999999999999 3.418 1.464 0.24400000000000002]\n",
      "Iris-versicolor centroid: [5.935999999999999 2.77 4.26 1.3260000000000003]\n",
      "Iris-virginica centroid: [6.587999999999999 2.974 5.5520000000000005 2.026]\n"
     ]
    }
   ],
   "source": [
    "centroids := make(map[string]centroid)\n",
    "\n",
    "for _, species := range speciesNames {\n",
    "\n",
    "    filter := dataframe.F{\n",
    "        Colname:    \"species\",\n",
    "        Comparator: series.Eq,\n",
    "        Comparando: species,\n",
    "    }\n",
    "    filtered := irisDF.Filter(filter)\n",
    "\n",
    "    summaryDF := filtered.Describe()\n",
    "\n",
    "    var c centroid\n",
    "    for _, feature := range summaryDF.Names() {\n",
    "\n",
    "        if feature == \"column\" || feature == \"species\" {\n",
    "            continue\n",
    "        }\n",
    "        c = append(c, summaryDF.Col(feature).Float()[0])\n",
    "    }\n",
    "\n",
    "    centroids[species] = c\n",
    "}\n",
    "\n",
    "for _, species := range speciesNames {\n",
    "    fmt.Printf(\"%s centroid: %v\\n\", species, centroids[species])\n",
    "}"
   ]
  },
  {
   "cell_type": "code",
   "execution_count": null,
   "id": "753b9998",
   "metadata": {},
   "outputs": [],
   "source": []
  }
 ],
 "metadata": {
  "kernelspec": {
   "display_name": "Go",
   "language": "go",
   "name": "gophernotes"
  },
  "language_info": {
   "codemirror_mode": "",
   "file_extension": ".go",
   "mimetype": "",
   "name": "go",
   "nbconvert_exporter": "",
   "pygments_lexer": "",
   "version": "go1.17.10"
  }
 },
 "nbformat": 4,
 "nbformat_minor": 5
}
