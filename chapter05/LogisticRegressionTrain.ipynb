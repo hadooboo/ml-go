{
 "cells": [
  {
   "cell_type": "code",
   "execution_count": 1,
   "id": "d774473f",
   "metadata": {},
   "outputs": [],
   "source": [
    "import (\n",
    "    \"encoding/csv\"\n",
    "    \"fmt\"\n",
    "    \"log\"\n",
    "    \"math\"\n",
    "    \"math/rand\"\n",
    "    \"os\"\n",
    "    \"strconv\"\n",
    "    \"time\"\n",
    "\n",
    "    \"github.com/gonum/matrix/mat64\"\n",
    ")"
   ]
  },
  {
   "cell_type": "code",
   "execution_count": 2,
   "id": "9b1040d6",
   "metadata": {},
   "outputs": [],
   "source": [
    "f, err := os.Open(\"training.csv\")\n",
    "if err != nil {\n",
    "    log.Fatal(err)\n",
    "}\n",
    "reader := csv.NewReader(f)\n",
    "reader.FieldsPerRecord = 2\n",
    "\n",
    "rawCSVData, err := reader.ReadAll()\n",
    "if err != nil {\n",
    "    log.Fatal(err)\n",
    "}\n",
    "f.Close()"
   ]
  },
  {
   "cell_type": "code",
   "execution_count": 3,
   "id": "47706448",
   "metadata": {},
   "outputs": [],
   "source": [
    "func logistic(x float64) float64 {\n",
    "    return 1.0 / (1.0 + math.Exp(-x))\n",
    "}"
   ]
  },
  {
   "cell_type": "code",
   "execution_count": 4,
   "id": "2f8d27a9",
   "metadata": {},
   "outputs": [],
   "source": [
    "func logisticRegression(features *mat64.Dense, labels []float64, numSteps int, learningRate float64) []float64 {\n",
    "    _, numWeights := features.Dims()\n",
    "    weights := make([]float64, numWeights)\n",
    "\n",
    "    s := rand.NewSource(time.Now().UnixNano())\n",
    "    r := rand.New(s)\n",
    "\n",
    "    for idx, _ := range weights {\n",
    "        weights[idx] = r.Float64()\n",
    "    }\n",
    "\n",
    "    for i := 0; i < numSteps; i++ {\n",
    "\n",
    "        var sumError float64\n",
    "\n",
    "        for idx, label := range labels {\n",
    "\n",
    "            featureRow := mat64.Row(nil, idx, features)\n",
    "\n",
    "            pred := logistic(featureRow[0]*weights[0] + featureRow[1]*weights[1])\n",
    "            predError := label - pred\n",
    "            sumError += math.Pow(predError, 2)\n",
    "\n",
    "            for j := 0; j < len(featureRow); j++ {\n",
    "                weights[j] += learningRate * predError * pred * (1 - pred) * featureRow[j]\n",
    "            }\n",
    "        }\n",
    "    }\n",
    "\n",
    "    return weights\n",
    "}"
   ]
  },
  {
   "cell_type": "code",
   "execution_count": 5,
   "id": "9c7b8ec0",
   "metadata": {},
   "outputs": [
    {
     "name": "stdout",
     "output_type": "stream",
     "text": [
      "\n",
      "p = 1 / ( 1 + exp(- m1 * FICO.score - m2) )\n",
      "\n",
      "m1 = 13.65\n",
      "m2 = -4.89\n",
      "\n"
     ]
    }
   ],
   "source": [
    "featureData := make([]float64, 2*(len(rawCSVData)-1))\n",
    "labels := make([]float64, len(rawCSVData)-1)\n",
    "\n",
    "var featureIndex int\n",
    "\n",
    "for idx, record := range rawCSVData {\n",
    "\n",
    "    if idx == 0 {\n",
    "        continue\n",
    "    }\n",
    "\n",
    "    featureVal, err := strconv.ParseFloat(record[0], 64)\n",
    "    if err != nil {\n",
    "        log.Fatal(err)\n",
    "    }\n",
    "\n",
    "    featureData[featureIndex] = featureVal\n",
    "\n",
    "    featureData[featureIndex+1] = 1.0\n",
    "\n",
    "    featureIndex += 2\n",
    "\n",
    "    labelVal, err := strconv.ParseFloat(record[1], 64)\n",
    "    if err != nil {\n",
    "        log.Fatal(err)\n",
    "    }\n",
    "\n",
    "    labels[idx-1] = labelVal\n",
    "}\n",
    "\n",
    "features := mat64.NewDense(len(rawCSVData)-1, 2, featureData)\n",
    "\n",
    "weights := logisticRegression(features, labels, 1000, 0.3)\n",
    "\n",
    "formula := \"p = 1 / ( 1 + exp(- m1 * FICO.score - m2) )\"\n",
    "_, _ = fmt.Printf(\"\\n%s\\n\\nm1 = %0.2f\\nm2 = %0.2f\\n\\n\", formula, weights[0], weights[1])"
   ]
  },
  {
   "cell_type": "code",
   "execution_count": null,
   "id": "d63871f5",
   "metadata": {},
   "outputs": [],
   "source": []
  }
 ],
 "metadata": {
  "kernelspec": {
   "display_name": "Go",
   "language": "go",
   "name": "gophernotes"
  },
  "language_info": {
   "codemirror_mode": "",
   "file_extension": ".go",
   "mimetype": "",
   "name": "go",
   "nbconvert_exporter": "",
   "pygments_lexer": "",
   "version": "go1.17.10"
  }
 },
 "nbformat": 4,
 "nbformat_minor": 5
}
