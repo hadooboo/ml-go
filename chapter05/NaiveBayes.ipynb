{
 "cells": [
  {
   "cell_type": "code",
   "execution_count": 1,
   "id": "ecd225f1",
   "metadata": {},
   "outputs": [],
   "source": [
    "import (\n",
    "    \"fmt\"\n",
    "    \"log\"\n",
    "\n",
    "    \"./golearn/base\"\n",
    "    \"./golearn/evaluation\"\n",
    "    \"./golearn/filters\"\n",
    "    \"./golearn/naive\"\n",
    ")"
   ]
  },
  {
   "cell_type": "code",
   "execution_count": 2,
   "id": "5e9b49f7",
   "metadata": {},
   "outputs": [],
   "source": [
    "func convertToBinary(src base.FixedDataGrid) base.FixedDataGrid {\n",
    "    b := filters.NewBinaryConvertFilter()\n",
    "    attrs := base.NonClassAttributes(src)\n",
    "    for _, a := range attrs {\n",
    "        b.AddAttribute(a)\n",
    "    }\n",
    "    b.Train()\n",
    "    ret := base.NewLazilyFilteredInstances(src, b)\n",
    "    return ret\n",
    "}"
   ]
  },
  {
   "cell_type": "code",
   "execution_count": 3,
   "id": "bd839d84",
   "metadata": {},
   "outputs": [],
   "source": [
    "trainingData, err := base.ParseCSVToInstances(\"training.csv\", true)\n",
    "if err != nil {\n",
    "    log.Fatal(err)\n",
    "}"
   ]
  },
  {
   "cell_type": "code",
   "execution_count": 4,
   "id": "35469aa0",
   "metadata": {},
   "outputs": [],
   "source": [
    "nb := naive.NewBernoulliNBClassifier()"
   ]
  },
  {
   "cell_type": "code",
   "execution_count": 5,
   "id": "c09c0c20",
   "metadata": {},
   "outputs": [],
   "source": [
    "nb.Fit(convertToBinary(trainingData))"
   ]
  },
  {
   "cell_type": "code",
   "execution_count": 6,
   "id": "ecbbdaa9",
   "metadata": {},
   "outputs": [],
   "source": [
    "testData, err := base.ParseCSVToInstances(\"test.csv\", true)\n",
    "if err != nil {\n",
    "    log.Fatal(err)\n",
    "}"
   ]
  },
  {
   "cell_type": "code",
   "execution_count": 7,
   "id": "d3d67d94",
   "metadata": {},
   "outputs": [],
   "source": [
    "predictions, _ := nb.Predict(convertToBinary(testData))"
   ]
  },
  {
   "cell_type": "code",
   "execution_count": 8,
   "id": "fbeae447",
   "metadata": {},
   "outputs": [
    {
     "name": "stdout",
     "output_type": "stream",
     "text": [
      "\n",
      "Accuracy: 0.63\n",
      "\n"
     ]
    }
   ],
   "source": [
    "cm, err := evaluation.GetConfusionMatrix(testData, predictions)\n",
    "if err != nil {\n",
    "    log.Fatal(err)\n",
    "}\n",
    "\n",
    "accuracy := evaluation.GetAccuracy(cm)\n",
    "_, _ = fmt.Printf(\"\\nAccuracy: %0.2f\\n\\n\", accuracy)"
   ]
  },
  {
   "cell_type": "code",
   "execution_count": null,
   "id": "0a0f6ed7",
   "metadata": {},
   "outputs": [],
   "source": []
  }
 ],
 "metadata": {
  "kernelspec": {
   "display_name": "Go",
   "language": "go",
   "name": "gophernotes"
  },
  "language_info": {
   "codemirror_mode": "",
   "file_extension": ".go",
   "mimetype": "",
   "name": "go",
   "nbconvert_exporter": "",
   "pygments_lexer": "",
   "version": "go1.17.10"
  }
 },
 "nbformat": 4,
 "nbformat_minor": 5
}
