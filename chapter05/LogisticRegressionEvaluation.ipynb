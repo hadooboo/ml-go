{
 "cells": [
  {
   "cell_type": "code",
   "execution_count": 1,
   "id": "a49a975c",
   "metadata": {},
   "outputs": [],
   "source": [
    "import (\n",
    "    \"encoding/csv\"\n",
    "    \"fmt\"\n",
    "    \"io\"\n",
    "    \"log\"\n",
    "    \"math\"\n",
    "    \"os\"\n",
    "    \"strconv\"\n",
    ")"
   ]
  },
  {
   "cell_type": "code",
   "execution_count": 2,
   "id": "543a08b5",
   "metadata": {},
   "outputs": [],
   "source": [
    "func predict(score float64) float64 {\n",
    "\n",
    "    p := 1 / (1 + math.Exp(-13.65*score+4.89))\n",
    "\n",
    "    if p >= 0.5 {\n",
    "        return 1.0\n",
    "    }\n",
    "\n",
    "    return 0.0\n",
    "}"
   ]
  },
  {
   "cell_type": "code",
   "execution_count": 3,
   "id": "49c4a89a",
   "metadata": {},
   "outputs": [
    {
     "name": "stdout",
     "output_type": "stream",
     "text": [
      "\n",
      "Accuracy = 0.83\n",
      "\n"
     ]
    }
   ],
   "source": [
    "f, err := os.Open(\"test.csv\")\n",
    "if err != nil {\n",
    "    log.Fatal(err)\n",
    "}\n",
    "reader := csv.NewReader(f)\n",
    "\n",
    "var observed []float64\n",
    "var predicted []float64\n",
    "\n",
    "line := 1\n",
    "\n",
    "for {\n",
    "\n",
    "    record, err := reader.Read()\n",
    "    if err == io.EOF {\n",
    "        break\n",
    "    }\n",
    "\n",
    "    if line == 1 {\n",
    "        line++\n",
    "        continue\n",
    "    }\n",
    "\n",
    "    observedVal, err := strconv.ParseFloat(record[1], 64)\n",
    "    if err != nil {\n",
    "        log.Printf(\"Parsing line %d failed, unexpected type\\n\", line)\n",
    "        continue\n",
    "    }\n",
    "\n",
    "    score, err := strconv.ParseFloat(record[0], 64)\n",
    "    if err != nil {\n",
    "        log.Printf(\"Parsing line %d failed, unexpected type\\n\", line)\n",
    "        continue\n",
    "    }\n",
    "\n",
    "    predictedVal := predict(score)\n",
    "\n",
    "    observed = append(observed, observedVal)\n",
    "    predicted = append(predicted, predictedVal)\n",
    "    line++\n",
    "}\n",
    "\n",
    "var truePosNeg int\n",
    "\n",
    "for idx, oVal := range observed {\n",
    "    if oVal == predicted[idx] {\n",
    "        truePosNeg++\n",
    "    }\n",
    "}\n",
    "\n",
    "accuracy := float64(truePosNeg) / float64(len(observed))\n",
    "\n",
    "fmt.Printf(\"\\nAccuracy = %0.2f\\n\\n\", accuracy)\n",
    "\n",
    "f.Close()"
   ]
  },
  {
   "cell_type": "code",
   "execution_count": null,
   "id": "a217abe2",
   "metadata": {},
   "outputs": [],
   "source": []
  }
 ],
 "metadata": {
  "kernelspec": {
   "display_name": "Go",
   "language": "go",
   "name": "gophernotes"
  },
  "language_info": {
   "codemirror_mode": "",
   "file_extension": ".go",
   "mimetype": "",
   "name": "go",
   "nbconvert_exporter": "",
   "pygments_lexer": "",
   "version": "go1.17.10"
  }
 },
 "nbformat": 4,
 "nbformat_minor": 5
}
