{
 "cells": [
  {
   "cell_type": "code",
   "execution_count": 1,
   "id": "ae430730",
   "metadata": {},
   "outputs": [],
   "source": [
    "import (\n",
    "    \"fmt\"\n",
    "    \"log\"\n",
    "    \"math\"\n",
    "    \"math/rand\"\n",
    "\n",
    "    \"./golearn/base\"\n",
    "    \"./golearn/ensemble\"\n",
    "    \"./golearn/evaluation\"\n",
    ")"
   ]
  },
  {
   "cell_type": "code",
   "execution_count": 2,
   "id": "41e7a363",
   "metadata": {},
   "outputs": [],
   "source": [
    "irisData, err := base.ParseCSVToInstances(\"iris.csv\", true)\n",
    "if err != nil {\n",
    "    log.Fatal(err)\n",
    "}"
   ]
  },
  {
   "cell_type": "code",
   "execution_count": 3,
   "id": "c56c7d50",
   "metadata": {},
   "outputs": [],
   "source": [
    "rand.Seed(44111342)"
   ]
  },
  {
   "cell_type": "code",
   "execution_count": 4,
   "id": "5d81ccde",
   "metadata": {},
   "outputs": [],
   "source": [
    "rf := ensemble.NewRandomForest(10, 2)"
   ]
  },
  {
   "cell_type": "code",
   "execution_count": 5,
   "id": "ac849f82",
   "metadata": {},
   "outputs": [],
   "source": [
    "cv, err := evaluation.GenerateCrossFoldValidationConfusionMatrices(irisData, rf, 5)\n",
    "if err != nil {\n",
    "    log.Fatal(err)\n",
    "}"
   ]
  },
  {
   "cell_type": "code",
   "execution_count": 6,
   "id": "bff12e68",
   "metadata": {},
   "outputs": [
    {
     "name": "stdout",
     "output_type": "stream",
     "text": [
      "\n",
      "Accuracy\n",
      "0.32 (+/- 0.16)\n",
      "\n"
     ]
    }
   ],
   "source": [
    "mean, variance := evaluation.GetCrossValidatedMetric(cv, evaluation.GetAccuracy)\n",
    "stdev := math.Sqrt(variance)\n",
    "\n",
    "_, _ = fmt.Printf(\"\\nAccuracy\\n%.2f (+/- %.2f)\\n\\n\", mean, stdev*2)"
   ]
  },
  {
   "cell_type": "code",
   "execution_count": null,
   "id": "3a7951e4",
   "metadata": {},
   "outputs": [],
   "source": []
  }
 ],
 "metadata": {
  "kernelspec": {
   "display_name": "Go",
   "language": "go",
   "name": "gophernotes"
  },
  "language_info": {
   "codemirror_mode": "",
   "file_extension": ".go",
   "mimetype": "",
   "name": "go",
   "nbconvert_exporter": "",
   "pygments_lexer": "",
   "version": "go1.17.10"
  }
 },
 "nbformat": 4,
 "nbformat_minor": 5
}
