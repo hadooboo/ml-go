{
 "cells": [
  {
   "cell_type": "code",
   "execution_count": 1,
   "id": "c9fad1db",
   "metadata": {},
   "outputs": [],
   "source": [
    "import (\n",
    "    \"fmt\"\n",
    "    \"log\"\n",
    "    \"math\"\n",
    "\n",
    "    \"./golearn/base\"\n",
    "    \"./golearn/evaluation\"\n",
    "    \"./golearn/knn\"\n",
    ")"
   ]
  },
  {
   "cell_type": "code",
   "execution_count": 2,
   "id": "21d019cc",
   "metadata": {},
   "outputs": [],
   "source": [
    "irisData, err := base.ParseCSVToInstances(\"iris.csv\", true)\n",
    "if err != nil {\n",
    "    log.Fatal(err)\n",
    "}"
   ]
  },
  {
   "cell_type": "code",
   "execution_count": 3,
   "id": "c9a30f34",
   "metadata": {},
   "outputs": [],
   "source": [
    "knn := knn.NewKnnClassifier(\"euclidean\", \"linear\", 2)"
   ]
  },
  {
   "cell_type": "code",
   "execution_count": 4,
   "id": "5e78ec9a",
   "metadata": {},
   "outputs": [
    {
     "name": "stdout",
     "output_type": "stream",
     "text": [
      "KNN: 95.00 % done\r"
     ]
    }
   ],
   "source": [
    "cv, err := evaluation.GenerateCrossFoldValidationConfusionMatrices(irisData, knn, 5)\n",
    "if err != nil {\n",
    "    log.Fatal(err)\n",
    "}"
   ]
  },
  {
   "cell_type": "code",
   "execution_count": 5,
   "id": "080a09ad",
   "metadata": {},
   "outputs": [
    {
     "name": "stdout",
     "output_type": "stream",
     "text": [
      "\n",
      "Accuracy\n",
      "0.95 (+/- 0.06)\n",
      "\n"
     ]
    }
   ],
   "source": [
    "mean, variance := evaluation.GetCrossValidatedMetric(cv, evaluation.GetAccuracy)\n",
    "stdev := math.Sqrt(variance)\n",
    "\n",
    "_, _ = fmt.Printf(\"\\nAccuracy\\n%.2f (+/- %.2f)\\n\\n\", mean, stdev*2)"
   ]
  },
  {
   "cell_type": "code",
   "execution_count": null,
   "id": "8293cba8",
   "metadata": {},
   "outputs": [],
   "source": []
  }
 ],
 "metadata": {
  "kernelspec": {
   "display_name": "Go",
   "language": "go",
   "name": "gophernotes"
  },
  "language_info": {
   "codemirror_mode": "",
   "file_extension": ".go",
   "mimetype": "",
   "name": "go",
   "nbconvert_exporter": "",
   "pygments_lexer": "",
   "version": "go1.17.10"
  }
 },
 "nbformat": 4,
 "nbformat_minor": 5
}
