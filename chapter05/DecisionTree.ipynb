{
 "cells": [
  {
   "cell_type": "code",
   "execution_count": 1,
   "id": "3d7297ea",
   "metadata": {},
   "outputs": [],
   "source": [
    "import (\n",
    "    \"fmt\"\n",
    "    \"log\"\n",
    "    \"math\"\n",
    "    \"math/rand\"\n",
    "\n",
    "    \"./golearn/base\"\n",
    "    \"./golearn/evaluation\"\n",
    "    \"./golearn/trees\"\n",
    ")"
   ]
  },
  {
   "cell_type": "code",
   "execution_count": 2,
   "id": "779377ac",
   "metadata": {},
   "outputs": [],
   "source": [
    "irisData, err := base.ParseCSVToInstances(\"iris.csv\", true)\n",
    "if err != nil {\n",
    "    log.Fatal(err)\n",
    "}"
   ]
  },
  {
   "cell_type": "code",
   "execution_count": 3,
   "id": "aa27b1b9",
   "metadata": {},
   "outputs": [],
   "source": [
    "rand.Seed(44111342)"
   ]
  },
  {
   "cell_type": "code",
   "execution_count": 4,
   "id": "4addf409",
   "metadata": {},
   "outputs": [],
   "source": [
    "tree := trees.NewID3DecisionTree(0.6)"
   ]
  },
  {
   "cell_type": "code",
   "execution_count": 5,
   "id": "22945619",
   "metadata": {},
   "outputs": [],
   "source": [
    "cv, err := evaluation.GenerateCrossFoldValidationConfusionMatrices(irisData, tree, 5)\n",
    "if err != nil {\n",
    "    log.Fatal(err)\n",
    "}"
   ]
  },
  {
   "cell_type": "code",
   "execution_count": 6,
   "id": "e77ba4a5",
   "metadata": {},
   "outputs": [
    {
     "name": "stdout",
     "output_type": "stream",
     "text": [
      "\n",
      "Accuracy\n",
      "0.91 (+/- 0.09)\n",
      "\n"
     ]
    }
   ],
   "source": [
    "mean, variance := evaluation.GetCrossValidatedMetric(cv, evaluation.GetAccuracy)\n",
    "stdev := math.Sqrt(variance)\n",
    "\n",
    "_, _ = fmt.Printf(\"\\nAccuracy\\n%.2f (+/- %.2f)\\n\\n\", mean, stdev*2)"
   ]
  },
  {
   "cell_type": "code",
   "execution_count": null,
   "id": "03f1a125",
   "metadata": {},
   "outputs": [],
   "source": []
  }
 ],
 "metadata": {
  "kernelspec": {
   "display_name": "Go",
   "language": "go",
   "name": "gophernotes"
  },
  "language_info": {
   "codemirror_mode": "",
   "file_extension": ".go",
   "mimetype": "",
   "name": "go",
   "nbconvert_exporter": "",
   "pygments_lexer": "",
   "version": "go1.17.10"
  }
 },
 "nbformat": 4,
 "nbformat_minor": 5
}
