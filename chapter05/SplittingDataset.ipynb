{
 "cells": [
  {
   "cell_type": "code",
   "execution_count": 1,
   "id": "ea0d6176",
   "metadata": {},
   "outputs": [],
   "source": [
    "import (\n",
    "    \"bufio\"\n",
    "    \"log\"\n",
    "    \"os\"\n",
    "\n",
    "    \"github.com/go-gota/gota/dataframe\"\n",
    ")"
   ]
  },
  {
   "cell_type": "code",
   "execution_count": 2,
   "id": "3bde7ac5",
   "metadata": {},
   "outputs": [],
   "source": [
    "f, err := os.Open(\"clean_loan_data.csv\")\n",
    "if err != nil {\n",
    "    log.Fatal(err)\n",
    "}\n",
    "loanDF := dataframe.ReadCSV(f)\n",
    "f.Close()"
   ]
  },
  {
   "cell_type": "code",
   "execution_count": 3,
   "id": "729af539",
   "metadata": {},
   "outputs": [],
   "source": [
    "trainingNum := (4 * loanDF.Nrow()) / 5\n",
    "testNum := loanDF.Nrow() / 5\n",
    "if trainingNum+testNum < loanDF.Nrow() {\n",
    "    trainingNum++\n",
    "}\n",
    "\n",
    "trainingIdx := make([]int, trainingNum)\n",
    "testIdx := make([]int, testNum)\n",
    "\n",
    "for i := 0; i < trainingNum; i++ {\n",
    "    trainingIdx[i] = i\n",
    "}\n",
    "\n",
    "for i := 0; i < testNum; i++ {\n",
    "    testIdx[i] = trainingNum + i\n",
    "}\n",
    "\n",
    "trainingDF := loanDF.Subset(trainingIdx)\n",
    "testDF := loanDF.Subset(testIdx)\n",
    "\n",
    "setMap := map[int]dataframe.DataFrame{\n",
    "    0: trainingDF,\n",
    "    1: testDF,\n",
    "}\n",
    "\n",
    "for idx, setName := range []string{\"training.csv\", \"test.csv\"} {\n",
    "\n",
    "    f, err := os.Create(setName)\n",
    "    if err != nil {\n",
    "        log.Fatal(err)\n",
    "    }\n",
    "\n",
    "    w := bufio.NewWriter(f)\n",
    "\n",
    "    if err := setMap[idx].WriteCSV(w); err != nil {\n",
    "        log.Fatal(err)\n",
    "    }\n",
    "}"
   ]
  },
  {
   "cell_type": "code",
   "execution_count": null,
   "id": "6fa155e3",
   "metadata": {},
   "outputs": [],
   "source": []
  }
 ],
 "metadata": {
  "kernelspec": {
   "display_name": "Go",
   "language": "go",
   "name": "gophernotes"
  },
  "language_info": {
   "codemirror_mode": "",
   "file_extension": ".go",
   "mimetype": "",
   "name": "go",
   "nbconvert_exporter": "",
   "pygments_lexer": "",
   "version": "go1.17.10"
  }
 },
 "nbformat": 4,
 "nbformat_minor": 5
}
