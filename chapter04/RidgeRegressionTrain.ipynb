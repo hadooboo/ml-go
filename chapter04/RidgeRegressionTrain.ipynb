{
 "cells": [
  {
   "cell_type": "code",
   "execution_count": 1,
   "id": "d5819bc0",
   "metadata": {},
   "outputs": [],
   "source": [
    "import (\n",
    "    \"encoding/csv\"\n",
    "    \"fmt\"\n",
    "    \"log\"\n",
    "    \"os\"\n",
    "    \"strconv\"\n",
    "\n",
    "    \"github.com/berkmancenter/ridge\"\n",
    "    \"github.com/gonum/matrix/mat64\"\n",
    ")"
   ]
  },
  {
   "cell_type": "code",
   "execution_count": 2,
   "id": "86f3937f",
   "metadata": {},
   "outputs": [],
   "source": [
    "f, err := os.Open(\"training.csv\")\n",
    "if err != nil {\n",
    "    log.Fatal(err)\n",
    "}\n",
    "reader := csv.NewReader(f)\n",
    "\n",
    "reader.FieldsPerRecord = 4\n",
    "rawCSVData, err := reader.ReadAll()\n",
    "if err != nil {\n",
    "    log.Fatal(err)\n",
    "}\n",
    "f.Close()"
   ]
  },
  {
   "cell_type": "code",
   "execution_count": 3,
   "id": "641e9372",
   "metadata": {},
   "outputs": [],
   "source": [
    "featureData := make([]float64, 4*len(rawCSVData))\n",
    "yData := make([]float64, len(rawCSVData))\n",
    "\n",
    "var featureIndex int\n",
    "var yIndex int\n",
    "\n",
    "for idx, record := range rawCSVData {\n",
    "\n",
    "    if idx == 0 {\n",
    "        continue\n",
    "    }\n",
    "\n",
    "    for i, val := range record {\n",
    "\n",
    "        valParsed, err := strconv.ParseFloat(val, 64)\n",
    "        if err != nil {\n",
    "            log.Fatal(\"Could not parse float value\")\n",
    "        }\n",
    "\n",
    "        if i < 3 {\n",
    "\n",
    "            if i == 0 {\n",
    "                featureData[featureIndex] = 1\n",
    "                featureIndex++\n",
    "            }\n",
    "\n",
    "            featureData[featureIndex] = valParsed\n",
    "            featureIndex++\n",
    "        }\n",
    "\n",
    "        if i == 3 {\n",
    "\n",
    "            yData[yIndex] = valParsed\n",
    "            yIndex++\n",
    "        }\n",
    "\n",
    "    }\n",
    "}\n",
    "\n",
    "features := mat64.NewDense(len(rawCSVData), 4, featureData)\n",
    "y := mat64.NewVector(len(rawCSVData), yData)"
   ]
  },
  {
   "cell_type": "code",
   "execution_count": 4,
   "id": "db0806ff",
   "metadata": {},
   "outputs": [
    {
     "name": "stdout",
     "output_type": "stream",
     "text": [
      "\n",
      "Regression formula:\n",
      "y = 3.038 + 0.047 TV + 0.177 Radio + 0.001 Newspaper\n",
      "\n"
     ]
    }
   ],
   "source": [
    "r := ridge.New(features, y, 1.0)\n",
    "\n",
    "// Train our regression model.\n",
    "r.Regress()\n",
    "\n",
    "// Print our regression formula.\n",
    "c1 := r.Coefficients.At(0, 0)\n",
    "c2 := r.Coefficients.At(1, 0)\n",
    "c3 := r.Coefficients.At(2, 0)\n",
    "c4 := r.Coefficients.At(3, 0)\n",
    "_, _ = fmt.Printf(\"\\nRegression formula:\\n\")\n",
    "_, _ = fmt.Printf(\"y = %0.3f + %0.3f TV + %0.3f Radio + %0.3f Newspaper\\n\\n\", c1, c2, c3, c4)"
   ]
  },
  {
   "cell_type": "code",
   "execution_count": null,
   "id": "05d77f59",
   "metadata": {},
   "outputs": [],
   "source": []
  }
 ],
 "metadata": {
  "kernelspec": {
   "display_name": "Go",
   "language": "go",
   "name": "gophernotes"
  },
  "language_info": {
   "codemirror_mode": "",
   "file_extension": ".go",
   "mimetype": "",
   "name": "go",
   "nbconvert_exporter": "",
   "pygments_lexer": "",
   "version": "go1.17.10"
  }
 },
 "nbformat": 4,
 "nbformat_minor": 5
}
