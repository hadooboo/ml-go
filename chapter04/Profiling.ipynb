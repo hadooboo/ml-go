{
 "cells": [
  {
   "cell_type": "code",
   "execution_count": 1,
   "id": "d3d742de",
   "metadata": {},
   "outputs": [],
   "source": [
    "import (\n",
    "    \"log\"\n",
    "    \"os\"\n",
    "    \"fmt\"\n",
    "\n",
    "    \"github.com/go-gota/gota/dataframe\"\n",
    ")"
   ]
  },
  {
   "cell_type": "code",
   "execution_count": 2,
   "id": "f3197a39",
   "metadata": {},
   "outputs": [],
   "source": [
    "f, err := os.Open(\"Advertising.csv\")\n",
    "if err != nil {\n",
    "    log.Fatal(err)\n",
    "}\n",
    "advertDF := dataframe.ReadCSV(f)\n",
    "f.Close()"
   ]
  },
  {
   "cell_type": "code",
   "execution_count": 3,
   "id": "cf9c0057",
   "metadata": {},
   "outputs": [
    {
     "name": "stdout",
     "output_type": "stream",
     "text": [
      "[8x5] DataFrame\n",
      "\n",
      "    column   TV         Radio     Newspaper  Sales\n",
      " 0: mean     147.042500 23.264000 30.554000  14.022500\n",
      " 1: median   149.750000 22.900000 25.750000  12.900000\n",
      " 2: stddev   85.854236  14.846809 21.778621  5.217457\n",
      " 3: min      0.700000   0.000000  0.300000   1.600000\n",
      " 4: 25%      73.400000  9.900000  12.600000  10.300000\n",
      " 5: 50%      149.700000 22.500000 25.600000  12.900000\n",
      " 6: 75%      218.500000 36.500000 45.100000  17.400000\n",
      " 7: max      296.400000 49.600000 114.000000 27.000000\n",
      "    <string> <float>    <float>   <float>    <float>\n",
      "\n"
     ]
    }
   ],
   "source": [
    "_, _ = fmt.Println(advertDF.Describe())"
   ]
  },
  {
   "cell_type": "code",
   "execution_count": null,
   "id": "5fca803d",
   "metadata": {},
   "outputs": [],
   "source": []
  }
 ],
 "metadata": {
  "kernelspec": {
   "display_name": "Go",
   "language": "go",
   "name": "gophernotes"
  },
  "language_info": {
   "codemirror_mode": "",
   "file_extension": ".go",
   "mimetype": "",
   "name": "go",
   "nbconvert_exporter": "",
   "pygments_lexer": "",
   "version": "go1.17.10"
  }
 },
 "nbformat": 4,
 "nbformat_minor": 5
}
