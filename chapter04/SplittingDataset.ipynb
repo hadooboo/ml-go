{
 "cells": [
  {
   "cell_type": "code",
   "execution_count": 1,
   "id": "80f9aa85",
   "metadata": {},
   "outputs": [],
   "source": [
    "import (\n",
    "    \"os\"\n",
    "    \"log\"\n",
    "    \"bufio\"\n",
    "    \n",
    "    \"github.com/go-gota/gota/dataframe\"\n",
    ")"
   ]
  },
  {
   "cell_type": "code",
   "execution_count": 2,
   "id": "73ebedb1",
   "metadata": {},
   "outputs": [],
   "source": [
    "f, err := os.Open(\"Advertising.csv\")\n",
    "if err != nil {\n",
    "    log.Fatal(err)\n",
    "}\n",
    "advertDF := dataframe.ReadCSV(f)\n",
    "f.Close()"
   ]
  },
  {
   "cell_type": "code",
   "execution_count": 3,
   "id": "c49b983a",
   "metadata": {},
   "outputs": [],
   "source": [
    "trainingNum := (4 * advertDF.Nrow()) / 5\n",
    "testNum := advertDF.Nrow() / 5\n",
    "if trainingNum+testNum < advertDF.Nrow() {\n",
    "    trainingNum++\n",
    "}\n",
    "\n",
    "trainingIdx := make([]int, trainingNum)\n",
    "testIdx := make([]int, testNum)\n",
    "\n",
    "for i := 0; i < trainingNum; i++ {\n",
    "    trainingIdx[i] = i\n",
    "}\n",
    "\n",
    "// Enumerate the test indices.\n",
    "for i := 0; i < testNum; i++ {\n",
    "    testIdx[i] = trainingNum + i\n",
    "}\n",
    "\n",
    "trainingDF := advertDF.Subset(trainingIdx)\n",
    "testDF := advertDF.Subset(testIdx)\n",
    "\n",
    "setMap := map[int]dataframe.DataFrame{\n",
    "    0: trainingDF,\n",
    "    1: testDF,\n",
    "}\n",
    "\n",
    "\n",
    "for idx, setName := range []string{\"training.csv\", \"test.csv\"} {\n",
    "    f, err := os.Create(setName)\n",
    "    if err != nil {\n",
    "        log.Fatal(err)\n",
    "    }\n",
    "\n",
    "    w := bufio.NewWriter(f)\n",
    "\n",
    "    if err := setMap[idx].WriteCSV(w); err != nil {\n",
    "        log.Fatal(err)\n",
    "    }\n",
    "}"
   ]
  },
  {
   "cell_type": "code",
   "execution_count": null,
   "id": "39c8fdf1",
   "metadata": {},
   "outputs": [],
   "source": []
  }
 ],
 "metadata": {
  "kernelspec": {
   "display_name": "Go",
   "language": "go",
   "name": "gophernotes"
  },
  "language_info": {
   "codemirror_mode": "",
   "file_extension": ".go",
   "mimetype": "",
   "name": "go",
   "nbconvert_exporter": "",
   "pygments_lexer": "",
   "version": "go1.17.10"
  }
 },
 "nbformat": 4,
 "nbformat_minor": 5
}
