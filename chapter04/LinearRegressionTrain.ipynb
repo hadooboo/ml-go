{
 "cells": [
  {
   "cell_type": "code",
   "execution_count": 1,
   "id": "5a46e4a1",
   "metadata": {},
   "outputs": [],
   "source": [
    "import (\n",
    "    \"encoding/csv\"\n",
    "    \"fmt\"\n",
    "    \"log\"\n",
    "    \"os\"\n",
    "    \"strconv\"\n",
    "\n",
    "    \"github.com/sajari/regression\"\n",
    ")"
   ]
  },
  {
   "cell_type": "code",
   "execution_count": 2,
   "id": "a83cc7dc",
   "metadata": {},
   "outputs": [],
   "source": [
    "f, err := os.Open(\"training.csv\")\n",
    "if err != nil {\n",
    "    log.Fatal(err)\n",
    "}\n",
    "reader := csv.NewReader(f)\n",
    "\n",
    "reader.FieldsPerRecord = 4\n",
    "trainingData, err := reader.ReadAll()\n",
    "if err != nil {\n",
    "    log.Fatal(err)\n",
    "}\n",
    "f.Close()"
   ]
  },
  {
   "cell_type": "code",
   "execution_count": 3,
   "id": "3244d771",
   "metadata": {},
   "outputs": [
    {
     "name": "stdout",
     "output_type": "stream",
     "text": [
      "\n",
      "Regression Formula:\n",
      "Predicted = 7.0688 + TV*0.0489\n",
      "\n"
     ]
    }
   ],
   "source": [
    "var r regression.Regression\n",
    "r.SetObserved(\"Sales\")\n",
    "r.SetVar(0, \"TV\")\n",
    "\n",
    "for i, record := range trainingData {\n",
    "\n",
    "    if i == 0 {\n",
    "        continue\n",
    "    }\n",
    "\n",
    "    yVal, err := strconv.ParseFloat(record[3], 64)\n",
    "    if err != nil {\n",
    "        log.Fatal(err)\n",
    "    }\n",
    "\n",
    "    tvVal, err := strconv.ParseFloat(record[0], 64)\n",
    "    if err != nil {\n",
    "        log.Fatal(err)\n",
    "    }\n",
    "\n",
    "    r.Train(regression.DataPoint(yVal, []float64{tvVal}))\n",
    "}\n",
    "\n",
    "r.Run()\n",
    "\n",
    "_, _ = fmt.Printf(\"\\nRegression Formula:\\n%v\\n\\n\", r.Formula)"
   ]
  },
  {
   "cell_type": "code",
   "execution_count": null,
   "id": "d494739c",
   "metadata": {},
   "outputs": [],
   "source": []
  }
 ],
 "metadata": {
  "kernelspec": {
   "display_name": "Go",
   "language": "go",
   "name": "gophernotes"
  },
  "language_info": {
   "codemirror_mode": "",
   "file_extension": ".go",
   "mimetype": "",
   "name": "go",
   "nbconvert_exporter": "",
   "pygments_lexer": "",
   "version": "go1.17.10"
  }
 },
 "nbformat": 4,
 "nbformat_minor": 5
}
