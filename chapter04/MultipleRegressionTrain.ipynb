{
 "cells": [
  {
   "cell_type": "code",
   "execution_count": 1,
   "id": "9542fe48",
   "metadata": {},
   "outputs": [],
   "source": [
    "import (\n",
    "    \"encoding/csv\"\n",
    "    \"fmt\"\n",
    "    \"log\"\n",
    "    \"os\"\n",
    "    \"strconv\"\n",
    "\n",
    "    \"github.com/sajari/regression\"\n",
    ")"
   ]
  },
  {
   "cell_type": "code",
   "execution_count": 2,
   "id": "d4a853d5",
   "metadata": {},
   "outputs": [],
   "source": [
    "f, err := os.Open(\"training.csv\")\n",
    "if err != nil {\n",
    "    log.Fatal(err)\n",
    "}\n",
    "reader := csv.NewReader(f)\n",
    "\n",
    "reader.FieldsPerRecord = 4\n",
    "trainingData, err := reader.ReadAll()\n",
    "if err != nil {\n",
    "    log.Fatal(err)\n",
    "}\n",
    "f.Close()"
   ]
  },
  {
   "cell_type": "code",
   "execution_count": 3,
   "id": "1ad5bf81",
   "metadata": {},
   "outputs": [
    {
     "name": "stdout",
     "output_type": "stream",
     "text": [
      "\n",
      "Regression Formula:\n",
      "Predicted = 2.9318 + TV*0.0473 + Radio*0.1794\n",
      "\n"
     ]
    }
   ],
   "source": [
    "var r regression.Regression\n",
    "r.SetObserved(\"Sales\")\n",
    "r.SetVar(0, \"TV\")\n",
    "r.SetVar(1, \"Radio\")\n",
    "\n",
    "for i, record := range trainingData {\n",
    "\n",
    "    if i == 0 {\n",
    "        continue\n",
    "    }\n",
    "\n",
    "    yVal, err := strconv.ParseFloat(record[3], 64)\n",
    "    if err != nil {\n",
    "        log.Fatal(err)\n",
    "    }\n",
    "\n",
    "    tvVal, err := strconv.ParseFloat(record[0], 64)\n",
    "    if err != nil {\n",
    "        log.Fatal(err)\n",
    "    }\n",
    "\n",
    "    radioVal, err := strconv.ParseFloat(record[1], 64)\n",
    "    if err != nil {\n",
    "        log.Fatal(err)\n",
    "    }\n",
    "\n",
    "    r.Train(regression.DataPoint(yVal, []float64{tvVal, radioVal}))\n",
    "}\n",
    "\n",
    "r.Run()\n",
    "\n",
    "_, _ = fmt.Printf(\"\\nRegression Formula:\\n%v\\n\\n\", r.Formula)"
   ]
  },
  {
   "cell_type": "code",
   "execution_count": null,
   "id": "9a8c8b43",
   "metadata": {},
   "outputs": [],
   "source": []
  }
 ],
 "metadata": {
  "kernelspec": {
   "display_name": "Go",
   "language": "go",
   "name": "gophernotes"
  },
  "language_info": {
   "codemirror_mode": "",
   "file_extension": ".go",
   "mimetype": "",
   "name": "go",
   "nbconvert_exporter": "",
   "pygments_lexer": "",
   "version": "go1.17.10"
  }
 },
 "nbformat": 4,
 "nbformat_minor": 5
}
