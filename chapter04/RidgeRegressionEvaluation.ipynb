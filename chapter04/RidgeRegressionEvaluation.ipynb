{
 "cells": [
  {
   "cell_type": "code",
   "execution_count": 1,
   "id": "87a4be00",
   "metadata": {},
   "outputs": [],
   "source": [
    "import (\n",
    "    \"encoding/csv\"\n",
    "    \"fmt\"\n",
    "    \"log\"\n",
    "    \"math\"\n",
    "    \"os\"\n",
    "    \"strconv\"\n",
    ")"
   ]
  },
  {
   "cell_type": "code",
   "execution_count": 2,
   "id": "db093d3a",
   "metadata": {},
   "outputs": [],
   "source": [
    "f, err := os.Open(\"test.csv\")\n",
    "if err != nil {\n",
    "    log.Fatal(err)\n",
    "}\n",
    "reader := csv.NewReader(f)\n",
    "\n",
    "reader.FieldsPerRecord = 4\n",
    "testData, err := reader.ReadAll()\n",
    "if err != nil {\n",
    "    log.Fatal(err)\n",
    "}\n",
    "f.Close()"
   ]
  },
  {
   "cell_type": "code",
   "execution_count": 3,
   "id": "4707000f",
   "metadata": {},
   "outputs": [],
   "source": [
    "func predict(tv, radio, newspaper float64) float64 {\n",
    "    return 3.038 + tv*0.047 + 0.177*radio + 0.001*newspaper\n",
    "}"
   ]
  },
  {
   "cell_type": "code",
   "execution_count": 4,
   "id": "533d0a3c",
   "metadata": {},
   "outputs": [
    {
     "name": "stdout",
     "output_type": "stream",
     "text": [
      "\n",
      "MAE = 1.26\n",
      "\n"
     ]
    }
   ],
   "source": [
    "var mAE float64\n",
    "for i, record := range testData {\n",
    "\n",
    "    if i == 0 {\n",
    "        continue\n",
    "    }\n",
    "\n",
    "    yObserved, err := strconv.ParseFloat(record[3], 64)\n",
    "    if err != nil {\n",
    "        log.Fatal(err)\n",
    "    }\n",
    "\n",
    "    tvVal, err := strconv.ParseFloat(record[0], 64)\n",
    "    if err != nil {\n",
    "        log.Fatal(err)\n",
    "    }\n",
    "\n",
    "    radioVal, err := strconv.ParseFloat(record[1], 64)\n",
    "    if err != nil {\n",
    "        log.Fatal(err)\n",
    "    }\n",
    "\n",
    "    newspaperVal, err := strconv.ParseFloat(record[2], 64)\n",
    "    if err != nil {\n",
    "        log.Fatal(err)\n",
    "    }\n",
    "\n",
    "    yPredicted := predict(tvVal, radioVal, newspaperVal)\n",
    "\n",
    "    mAE += math.Abs(yObserved-yPredicted) / float64(len(testData))\n",
    "}\n",
    "\n",
    "_, _ = fmt.Printf(\"\\nMAE = %0.2f\\n\\n\", mAE)"
   ]
  },
  {
   "cell_type": "code",
   "execution_count": null,
   "id": "58216b6e",
   "metadata": {},
   "outputs": [],
   "source": []
  }
 ],
 "metadata": {
  "kernelspec": {
   "display_name": "Go",
   "language": "go",
   "name": "gophernotes"
  },
  "language_info": {
   "codemirror_mode": "",
   "file_extension": ".go",
   "mimetype": "",
   "name": "go",
   "nbconvert_exporter": "",
   "pygments_lexer": "",
   "version": "go1.17.10"
  }
 },
 "nbformat": 4,
 "nbformat_minor": 5
}
