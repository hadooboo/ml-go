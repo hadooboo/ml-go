{
 "cells": [
  {
   "cell_type": "code",
   "execution_count": 1,
   "id": "ce8ee88b-d826-4ef3-8c9a-c714287d4ad8",
   "metadata": {},
   "outputs": [],
   "source": [
    "import (\n",
    "\t\"log\"\n",
    "\t\"math\"\n",
    "\t\"os\"\n",
    "\n",
    "    \"gonum.org/v1/plot\"\n",
    "    \"gonum.org/v1/plot/plotter\"\n",
    "    \"gonum.org/v1/plot/plotutil\"\n",
    "    \"gonum.org/v1/plot/vg\"\n",
    "    \"gonum.org/v1/gonum/stat\"\n",
    "    \"github.com/go-gota/gota/dataframe\"\n",
    ")"
   ]
  },
  {
   "cell_type": "code",
   "execution_count": 2,
   "id": "abc6573d-d95f-4ca1-a0ed-4574191ebf35",
   "metadata": {},
   "outputs": [],
   "source": [
    "// acf calculates the autocorrelation for a series\n",
    "// at the given lag.\n",
    "func acf(x []float64, lag int) float64 {\n",
    "\n",
    "\t// Shift the series.\n",
    "\txAdj := x[lag:len(x)]\n",
    "\txLag := x[0 : len(x)-lag]\n",
    "\n",
    "\t// numerator will hold our accumulated numerator, and\n",
    "\t// denominator will hold our accumulated denominator.\n",
    "\tvar numerator float64\n",
    "\tvar denominator float64\n",
    "\n",
    "\t// Calculate the mean of our x values, which will be used\n",
    "\t// in each term of the autocorrelation.\n",
    "\txBar := stat.Mean(x, nil)\n",
    "\n",
    "\t// Calculate the numerator.\n",
    "\tfor idx, xVal := range xAdj {\n",
    "\t\tnumerator += ((xVal - xBar) * (xLag[idx] - xBar))\n",
    "\t}\n",
    "\n",
    "\t// Calculate the denominator.\n",
    "\tfor _, xVal := range x {\n",
    "\t\tdenominator += math.Pow(xVal-xBar, 2)\n",
    "\t}\n",
    "\n",
    "\treturn numerator / denominator\n",
    "}"
   ]
  },
  {
   "cell_type": "code",
   "execution_count": 3,
   "id": "25a334d5-5d4a-4100-a8c8-3c0780578b1f",
   "metadata": {},
   "outputs": [],
   "source": [
    "func displayPlot(p *plot.Plot) {\n",
    "    var buf bytes.Buffer\n",
    "    c, err := p.WriterTo(10*vg.Inch, 4*vg.Inch, \"png\")\n",
    "    if err != nil {\n",
    "        panic(err)\n",
    "    }\n",
    "    \n",
    "    if _, err := c.WriteTo(&buf); err != nil {\n",
    "        panic(err)\n",
    "    }\n",
    "\n",
    "    gonbui.DisplayPNG(buf.Bytes())\n",
    "}"
   ]
  },
  {
   "cell_type": "code",
   "execution_count": 4,
   "id": "bae1e0cd-6a60-4e3b-a367-fb43cd7e80bb",
   "metadata": {},
   "outputs": [
    {
     "data": {
      "image/png": "[encoded data removed]"
     },
     "metadata": {},
     "output_type": "display_data"
    }
   ],
   "source": [
    "func main() {\n",
    "\n",
    "\t// Open the CSV file.\n",
    "\tpassengersFile, err := os.Open(\"log_diff_series.csv\")\n",
    "\tif err != nil {\n",
    "\t\tlog.Fatal(err)\n",
    "\t}\n",
    "\tdefer passengersFile.Close()\n",
    "\n",
    "\t// Create a dataframe from the CSV file.\n",
    "\tpassengersDF := dataframe.ReadCSV(passengersFile)\n",
    "\n",
    "\t// Get the time and passengers as a slice of floats.\n",
    "\tpassengers := passengersDF.Col(\"log_differenced_passengers\").Float()\n",
    "\n",
    "\t// Create a new plot, to plot our autocorrelations.\n",
    "\tp := plot.New()\n",
    "\tp.Title.Text = \"Autocorrelations for log(differenced passengers)\"\n",
    "\tp.X.Label.Text = \"Lag\"\n",
    "\tp.Y.Label.Text = \"ACF\"\n",
    "\tp.Y.Min = 0\n",
    "\tp.Y.Max = 1\n",
    "\n",
    "\tw := vg.Points(3)\n",
    "\n",
    "\t// Create the points for plotting.\n",
    "\tnumLags := 20\n",
    "\tpts := make(plotter.Values, numLags)\n",
    "\n",
    "\t// Loop over various values of lag in the series.\n",
    "\tfor i := 1; i <= numLags; i++ {\n",
    "\n",
    "\t\t// Calculate the autocorrelation.\n",
    "\t\tpts[i-1] = acf(passengers, i)\n",
    "\t}\n",
    "\n",
    "\t// Add the points to the plot.\n",
    "\tbars, err := plotter.NewBarChart(pts, w)\n",
    "\tif err != nil {\n",
    "\t\tlog.Fatal(err)\n",
    "\t}\n",
    "\tbars.LineStyle.Width = vg.Length(0)\n",
    "\tbars.Color = plotutil.Color(1)\n",
    "\n",
    "\t// Save the plot to a PNG file.\n",
    "\tp.Add(bars)\n",
    "\n",
    "    displayPlot(p)\n",
    "}"
   ]
  },
  {
   "cell_type": "code",
   "execution_count": null,
   "id": "86c7893b-d61e-4fb8-b278-657b664be35b",
   "metadata": {},
   "outputs": [],
   "source": []
  }
 ],
 "metadata": {
  "kernelspec": {
   "display_name": "Go (gonb)",
   "language": "go",
   "name": "gonb"
  },
  "language_info": {
   "codemirror_mode": "",
   "file_extension": ".go",
   "mimetype": "",
   "name": "go",
   "nbconvert_exporter": "",
   "pygments_lexer": "",
   "version": "go1.20.4"
  }
 },
 "nbformat": 4,
 "nbformat_minor": 5
}
