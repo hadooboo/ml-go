{
 "cells": [
  {
   "cell_type": "code",
   "execution_count": 1,
   "id": "ea263b60-9a4f-4e2a-9f51-949059fb2ef7",
   "metadata": {},
   "outputs": [],
   "source": [
    "import (\n",
    "\t\"fmt\"\n",
    "\t\"log\"\n",
    "\n",
    "\t\"github.com/lytics/anomalyzer\"\n",
    ")"
   ]
  },
  {
   "cell_type": "code",
   "execution_count": 2,
   "id": "99d8332c-4f34-49aa-b4ea-1543c4020abf",
   "metadata": {},
   "outputs": [
    {
     "name": "stdout",
     "output_type": "stream",
     "text": [
      "Probability of 15.2 being anomalous: 0.98\n",
      "Probability of 0.33 being anomalous: 0.80\n"
     ]
    }
   ],
   "source": [
    "func main() {\n",
    "\n",
    "\t// Initialize an AnomalyzerConf value with\n",
    "\t// configurations such as which anomaly detection\n",
    "\t// methods we want to use.\n",
    "\tconf := &anomalyzer.AnomalyzerConf{\n",
    "\t\tSensitivity: 0.1,\n",
    "\t\tUpperBound:  5,\n",
    "\t\tLowerBound:  anomalyzer.NA, // ignore the lower bound\n",
    "\t\tActiveSize:  1,\n",
    "\t\tNSeasons:    4,\n",
    "\t\tMethods:     []string{\"diff\", \"fence\", \"highrank\", \"lowrank\", \"magnitude\"},\n",
    "\t}\n",
    "\n",
    "\t// Create a time series of periodic observations\n",
    "\t// as a slice of floats.  This could come from a\n",
    "\t// database or file, as utilized in earlier examples.\n",
    "\tts := []float64{0.1, 0.2, 0.5, 0.12, 0.38, 0.9, 0.74}\n",
    "\n",
    "\t// Create a new anomalyzer based on the existing\n",
    "\t// time series values and configuration.\n",
    "\tanom, err := anomalyzer.NewAnomalyzer(conf, ts)\n",
    "\tif err != nil {\n",
    "\t\tlog.Fatal(err)\n",
    "\t}\n",
    "\n",
    "\t// Supply a new observed value to the Anomalyzer.\n",
    "\t// The Anomalyzer will analyze the value in reference\n",
    "\t// to pre-existing values in the series and output\n",
    "\t// a probability of the value being anomalous.\n",
    "\tprob := anom.Push(15.2)\n",
    "\tfmt.Printf(\"Probability of 15.2 being anomalous: %0.2f\\n\", prob)\n",
    "\n",
    "\tprob = anom.Push(0.43)\n",
    "\tfmt.Printf(\"Probability of 0.33 being anomalous: %0.2f\\n\", prob)\n",
    "}"
   ]
  },
  {
   "cell_type": "code",
   "execution_count": null,
   "id": "e267f770-092d-4992-b5e5-1c5b906455ce",
   "metadata": {},
   "outputs": [],
   "source": []
  }
 ],
 "metadata": {
  "kernelspec": {
   "display_name": "Go (gonb)",
   "language": "go",
   "name": "gonb"
  },
  "language_info": {
   "codemirror_mode": "",
   "file_extension": ".go",
   "mimetype": "",
   "name": "go",
   "nbconvert_exporter": "",
   "pygments_lexer": "",
   "version": "go1.20.4"
  }
 },
 "nbformat": 4,
 "nbformat_minor": 5
}
