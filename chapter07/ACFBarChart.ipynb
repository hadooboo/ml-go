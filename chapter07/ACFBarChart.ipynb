{
 "cells": [
  {
   "cell_type": "code",
   "execution_count": 1,
   "id": "2c342f8a-a625-4b32-aef4-d062c5933383",
   "metadata": {},
   "outputs": [],
   "source": [
    "import (\n",
    "\t\"log\"\n",
    "\t\"math\"\n",
    "\t\"os\"\n",
    "\n",
    "    \"gonum.org/v1/plot\"\n",
    "    \"gonum.org/v1/plot/plotter\"\n",
    "    \"gonum.org/v1/plot/plotutil\"\n",
    "    \"gonum.org/v1/plot/vg\"\n",
    "    \"gonum.org/v1/gonum/stat\"\n",
    "    \"github.com/go-gota/gota/dataframe\"\n",
    ")"
   ]
  },
  {
   "cell_type": "code",
   "execution_count": 2,
   "id": "cd4a3920-1bbd-4589-9ec5-ca117995d7f6",
   "metadata": {},
   "outputs": [],
   "source": [
    "// acf calculates the autocorrelation for a series\n",
    "// at the given lag.\n",
    "func acf(x []float64, lag int) float64 {\n",
    "\n",
    "\t// Shift the series.\n",
    "\txAdj := x[lag:len(x)]\n",
    "\txLag := x[0 : len(x)-lag]\n",
    "\n",
    "\t// numerator will hold our accumulated numerator, and\n",
    "\t// denominator will hold our accumulated denominator.\n",
    "\tvar numerator float64\n",
    "\tvar denominator float64\n",
    "\n",
    "\t// Calculate the mean of our x values, which will be used\n",
    "\t// in each term of the autocorrelation.\n",
    "\txBar := stat.Mean(x, nil)\n",
    "\n",
    "\t// Calculate the numerator.\n",
    "\tfor idx, xVal := range xAdj {\n",
    "\t\tnumerator += ((xVal - xBar) * (xLag[idx] - xBar))\n",
    "\t}\n",
    "\n",
    "\t// Calculate the denominator.\n",
    "\tfor _, xVal := range x {\n",
    "\t\tdenominator += math.Pow(xVal-xBar, 2)\n",
    "\t}\n",
    "\n",
    "\treturn numerator / denominator\n",
    "}"
   ]
  },
  {
   "cell_type": "code",
   "execution_count": 3,
   "id": "d5f8211c-4aa8-484c-bd9c-85e31aabb767",
   "metadata": {},
   "outputs": [],
   "source": [
    "func displayPlot(p *plot.Plot) {\n",
    "    var buf bytes.Buffer\n",
    "    c, err := p.WriterTo(10*vg.Inch, 4*vg.Inch, \"png\")\n",
    "    if err != nil {\n",
    "        panic(err)\n",
    "    }\n",
    "    \n",
    "    if _, err := c.WriteTo(&buf); err != nil {\n",
    "        panic(err)\n",
    "    }\n",
    "\n",
    "    gonbui.DisplayPNG(buf.Bytes())\n",
    "}"
   ]
  },
  {
   "cell_type": "code",
   "execution_count": 4,
   "id": "cb22c13a-a489-49ff-9b3e-719182fe46ac",
   "metadata": {},
   "outputs": [
    {
     "data": {
      "image/png": "[encoded data removed]"
     },
     "metadata": {},
     "output_type": "display_data"
    }
   ],
   "source": [
    "func main() {\n",
    "\n",
    "\t// Open the CSV file.\n",
    "\tpassengersFile, err := os.Open(\"AirPassengers.csv\")\n",
    "\tif err != nil {\n",
    "\t\tlog.Fatal(err)\n",
    "\t}\n",
    "\tdefer passengersFile.Close()\n",
    "\n",
    "\t// Create a dataframe from the CSV file.\n",
    "\tpassengersDF := dataframe.ReadCSV(passengersFile)\n",
    "\n",
    "\t// Get the time and passengers as a slice of floats.\n",
    "\tpassengers := passengersDF.Col(\"AirPassengers\").Float()\n",
    "\n",
    "\t// Create a new plot, to plot our autocorrelations.\n",
    "\tp := plot.New()\n",
    "\tp.Title.Text = \"Autocorrelations for AirPassengers\"\n",
    "\tp.X.Label.Text = \"Lag\"\n",
    "\tp.Y.Label.Text = \"ACF\"\n",
    "\tp.Y.Min = 0\n",
    "\tp.Y.Max = 1\n",
    "\n",
    "\tw := vg.Points(3)\n",
    "\n",
    "\t// Create the points for plotting.\n",
    "\tnumLags := 20\n",
    "\tpts := make(plotter.Values, numLags)\n",
    "\n",
    "\t// Loop over various values of lag in the series.\n",
    "\tfor i := 1; i <= numLags; i++ {\n",
    "\n",
    "\t\t// Calculate the autocorrelation.\n",
    "\t\tpts[i-1] = acf(passengers, i)\n",
    "\t}\n",
    "\n",
    "\t// Add the points to the plot.\n",
    "\tbars, err := plotter.NewBarChart(pts, w)\n",
    "\tif err != nil {\n",
    "\t\tlog.Fatal(err)\n",
    "\t}\n",
    "\tbars.LineStyle.Width = vg.Length(0)\n",
    "\tbars.Color = plotutil.Color(1)\n",
    "\n",
    "\t// Save the plot to a PNG file.\n",
    "\tp.Add(bars)\n",
    "\n",
    "    displayPlot(p)\n",
    "}"
   ]
  },
  {
   "cell_type": "code",
   "execution_count": null,
   "id": "967a8fd9-e3d5-4c54-a24f-4d7e181f7b46",
   "metadata": {},
   "outputs": [],
   "source": []
  }
 ],
 "metadata": {
  "kernelspec": {
   "display_name": "Go (gonb)",
   "language": "go",
   "name": "gonb"
  },
  "language_info": {
   "codemirror_mode": "",
   "file_extension": ".go",
   "mimetype": "",
   "name": "go",
   "nbconvert_exporter": "",
   "pygments_lexer": "",
   "version": "go1.20.4"
  }
 },
 "nbformat": 4,
 "nbformat_minor": 5
}
