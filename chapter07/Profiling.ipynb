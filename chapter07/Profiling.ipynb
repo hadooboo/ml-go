{
 "cells": [
  {
   "cell_type": "code",
   "execution_count": 1,
   "id": "1bc7ea67-4b55-4b05-bd8f-499af3b68b40",
   "metadata": {},
   "outputs": [],
   "source": [
    "import (\n",
    "\t\"fmt\"\n",
    "\t\"log\"\n",
    "\t\"os\"\n",
    "\n",
    "\t\"github.com/go-gota/gota/dataframe\"\n",
    ")"
   ]
  },
  {
   "cell_type": "code",
   "execution_count": 2,
   "id": "f425ea18-c9b5-47af-8b4d-9d1411a19120",
   "metadata": {},
   "outputs": [
    {
     "name": "stdout",
     "output_type": "stream",
     "text": [
      "[144x2] DataFrame\n",
      "\n",
      "    time        AirPassengers\n",
      " 0: 1949.000000 112\n",
      " 1: 1949.083333 118\n",
      " 2: 1949.166667 132\n",
      " 3: 1949.250000 129\n",
      " 4: 1949.333333 121\n",
      " 5: 1949.416667 135\n",
      " 6: 1949.500000 148\n",
      " 7: 1949.583333 148\n",
      " 8: 1949.666667 136\n",
      " 9: 1949.750000 119\n",
      "    ...         ...\n",
      "    <float>     <int>\n",
      "\n"
     ]
    }
   ],
   "source": [
    "func main() {\n",
    "\n",
    "\t// Open the CSV file.\n",
    "\tpassengersFile, err := os.Open(\"AirPassengers.csv\")\n",
    "\tif err != nil {\n",
    "\t\tlog.Fatal(err)\n",
    "\t}\n",
    "\tdefer passengersFile.Close()\n",
    "\n",
    "\t// Create a dataframe from the CSV file.\n",
    "\tpassengersDF := dataframe.ReadCSV(passengersFile)\n",
    "\n",
    "\t// As a sanity check, display the records to stdout.\n",
    "\t// Gota will format the dataframe for pretty printing.\n",
    "\tfmt.Println(passengersDF)\n",
    "}"
   ]
  },
  {
   "cell_type": "code",
   "execution_count": null,
   "id": "55830c74-c439-4efb-b24b-da682934ece0",
   "metadata": {},
   "outputs": [],
   "source": []
  }
 ],
 "metadata": {
  "kernelspec": {
   "display_name": "Go (gonb)",
   "language": "go",
   "name": "gonb"
  },
  "language_info": {
   "codemirror_mode": "",
   "file_extension": ".go",
   "mimetype": "",
   "name": "go",
   "nbconvert_exporter": "",
   "pygments_lexer": "",
   "version": "go1.20.4"
  }
 },
 "nbformat": 4,
 "nbformat_minor": 5
}
