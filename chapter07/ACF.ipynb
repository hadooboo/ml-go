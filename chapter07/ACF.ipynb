{
 "cells": [
  {
   "cell_type": "code",
   "execution_count": 1,
   "id": "2c0c2043-ab28-42a6-a30d-5a1b871f0253",
   "metadata": {},
   "outputs": [],
   "source": [
    "import (\n",
    "\t\"fmt\"\n",
    "\t\"log\"\n",
    "\t\"math\"\n",
    "\t\"os\"\n",
    "\n",
    "    \"gonum.org/v1/gonum/stat\"\n",
    "    \"github.com/go-gota/gota/dataframe\"\n",
    ")"
   ]
  },
  {
   "cell_type": "code",
   "execution_count": 2,
   "id": "e4be49ca-e49f-467e-a2bb-9c33e738c7cf",
   "metadata": {},
   "outputs": [],
   "source": [
    "// acf calculates the autocorrelation for a series\n",
    "// at the given lag.\n",
    "func acf(x []float64, lag int) float64 {\n",
    "\n",
    "\t// Shift the series.\n",
    "\txAdj := x[lag:len(x)]\n",
    "\txLag := x[0 : len(x)-lag]\n",
    "\n",
    "\t// numerator will hold our accumulated numerator, and\n",
    "\t// denominator will hold our accumulated denominator.\n",
    "\tvar numerator float64\n",
    "\tvar denominator float64\n",
    "\n",
    "\t// Calculate the mean of our x values, which will be used\n",
    "\t// in each term of the autocorrelation.\n",
    "\txBar := stat.Mean(x, nil)\n",
    "\n",
    "\t// Calculate the numerator.\n",
    "\tfor idx, xVal := range xAdj {\n",
    "\t\tnumerator += ((xVal - xBar) * (xLag[idx] - xBar))\n",
    "\t}\n",
    "\n",
    "\t// Calculate the denominator.\n",
    "\tfor _, xVal := range x {\n",
    "\t\tdenominator += math.Pow(xVal-xBar, 2)\n",
    "\t}\n",
    "\n",
    "\treturn numerator / denominator\n",
    "}"
   ]
  },
  {
   "cell_type": "code",
   "execution_count": 3,
   "id": "c10eb22d-146e-453d-9987-e78fb7aabdda",
   "metadata": {},
   "outputs": [
    {
     "name": "stdout",
     "output_type": "stream",
     "text": [
      "Autocorrelation:\n",
      "Lag 1 period: 0.95\n",
      "Lag 2 period: 0.88\n",
      "Lag 3 period: 0.81\n",
      "Lag 4 period: 0.75\n",
      "Lag 5 period: 0.71\n",
      "Lag 6 period: 0.68\n",
      "Lag 7 period: 0.66\n",
      "Lag 8 period: 0.66\n",
      "Lag 9 period: 0.67\n",
      "Lag 10 period: 0.70\n"
     ]
    }
   ],
   "source": [
    "func main() {\n",
    "\n",
    "\t// Open the CSV file.\n",
    "\tpassengersFile, err := os.Open(\"AirPassengers.csv\")\n",
    "\tif err != nil {\n",
    "\t\tlog.Fatal(err)\n",
    "\t}\n",
    "\tdefer passengersFile.Close()\n",
    "\n",
    "\t// Create a dataframe from the CSV file.\n",
    "\tpassengersDF := dataframe.ReadCSV(passengersFile)\n",
    "\n",
    "\t// Get the time and passengers as a slice of floats.\n",
    "\tpassengers := passengersDF.Col(\"AirPassengers\").Float()\n",
    "\n",
    "\t// Loop over various values of lag in the series.\n",
    "\tfmt.Println(\"Autocorrelation:\")\n",
    "\tfor i := 1; i < 11; i++ {\n",
    "\n",
    "\t\t// Calculate the autocorrelation.\n",
    "\t\tac := acf(passengers, i)\n",
    "\t\tfmt.Printf(\"Lag %d period: %0.2f\\n\", i, ac)\n",
    "\t}\n",
    "}"
   ]
  },
  {
   "cell_type": "code",
   "execution_count": null,
   "id": "e20cee6f-2656-4f45-8937-3575100ae33b",
   "metadata": {},
   "outputs": [],
   "source": []
  }
 ],
 "metadata": {
  "kernelspec": {
   "display_name": "Go (gonb)",
   "language": "go",
   "name": "gonb"
  },
  "language_info": {
   "codemirror_mode": "",
   "file_extension": ".go",
   "mimetype": "",
   "name": "go",
   "nbconvert_exporter": "",
   "pygments_lexer": "",
   "version": "go1.20.4"
  }
 },
 "nbformat": 4,
 "nbformat_minor": 5
}
