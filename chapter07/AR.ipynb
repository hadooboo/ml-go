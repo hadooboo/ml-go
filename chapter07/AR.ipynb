{
 "cells": [
  {
   "cell_type": "code",
   "execution_count": 1,
   "id": "a124fa18-53bb-447f-9f08-7a81741ebef7",
   "metadata": {},
   "outputs": [],
   "source": [
    "import (\n",
    "\t\"fmt\"\n",
    "\t\"log\"\n",
    "\t\"os\"\n",
    "\t\"strconv\"\n",
    "\n",
    "    \"github.com/go-gota/gota/dataframe\"\n",
    "\t\"github.com/sajari/regression\"\n",
    ")"
   ]
  },
  {
   "cell_type": "code",
   "execution_count": 2,
   "id": "39f8d4ec-02e3-4c4e-b7b2-3ae6b814747e",
   "metadata": {},
   "outputs": [],
   "source": [
    "// autoregressive calculates an AR model for a series\n",
    "// at a given order.\n",
    "func autoregressive(x []float64, lag int) ([]float64, float64) {\n",
    "\n",
    "\t// Create a regresssion.Regression value needed to train\n",
    "\t// a model using github.com/sajari/regression.\n",
    "\tvar r regression.Regression\n",
    "\tr.SetObserved(\"x\")\n",
    "\n",
    "\t// Define the current lag and all of the intermediate lags.\n",
    "\tfor i := 0; i < lag; i++ {\n",
    "\t\tr.SetVar(i, \"x\"+strconv.Itoa(i))\n",
    "\t}\n",
    "\n",
    "\t// Shift the series.\n",
    "\txAdj := x[lag:len(x)]\n",
    "\n",
    "\t// Loop over the series creating the data set\n",
    "\t// for the regression.\n",
    "\tfor i, xVal := range xAdj {\n",
    "\n",
    "\t\t// Loop over the intermediate lags to build up\n",
    "\t\t// our independent variables.\n",
    "\t\tlaggedVariables := make([]float64, lag)\n",
    "\t\tfor idx := 1; idx <= lag; idx++ {\n",
    "\n",
    "\t\t\t// Get the lagged series variables.\n",
    "\t\t\tlaggedVariables[idx-1] = x[lag+i-idx]\n",
    "\t\t}\n",
    "\n",
    "\t\t// Add these points to the regression value.\n",
    "\t\tr.Train(regression.DataPoint(xVal, laggedVariables))\n",
    "\t}\n",
    "\n",
    "\t// Fit the regression.\n",
    "\tr.Run()\n",
    "\n",
    "\t// coeff hold the coefficients for our lags.\n",
    "\tvar coeff []float64\n",
    "\tfor i := 1; i <= lag; i++ {\n",
    "\t\tcoeff = append(coeff, r.Coeff(i))\n",
    "\t}\n",
    "\n",
    "\treturn coeff, r.Coeff(0)\n",
    "}"
   ]
  },
  {
   "cell_type": "code",
   "execution_count": 3,
   "id": "1e8ac914-1931-416f-9e6f-5e911e2d4bbf",
   "metadata": {},
   "outputs": [
    {
     "name": "stdout",
     "output_type": "stream",
     "text": [
      "\n",
      "log(x(t)) - log(x(t-1)) = 0.008159 + lag1*0.234953 + lag2*-0.173682\n",
      "\n"
     ]
    }
   ],
   "source": [
    "func main() {\n",
    "\n",
    "\t// Open the CSV file.\n",
    "\tpassengersFile, err := os.Open(\"log_diff_series.csv\")\n",
    "\tif err != nil {\n",
    "\t\tlog.Fatal(err)\n",
    "\t}\n",
    "\tdefer passengersFile.Close()\n",
    "\n",
    "\t// Create a dataframe from the CSV file.\n",
    "\tpassengersDF := dataframe.ReadCSV(passengersFile)\n",
    "\n",
    "\t// Get the time and passengers as a slice of floats.\n",
    "\tpassengers := passengersDF.Col(\"log_differenced_passengers\").Float()\n",
    "\n",
    "\t// Calculate the coefficients for lag 1 and 2 and\n",
    "\t// our error.\n",
    "\tcoeffs, intercept := autoregressive(passengers, 2)\n",
    "\n",
    "\t// Output the AR(2) model to stdout.\n",
    "\tfmt.Printf(\"\\nlog(x(t)) - log(x(t-1)) = %0.6f + lag1*%0.6f + lag2*%0.6f\\n\\n\", intercept, coeffs[0], coeffs[1])\n",
    "}"
   ]
  },
  {
   "cell_type": "code",
   "execution_count": null,
   "id": "b5130cff-313c-4060-b1b7-a973d3fbd70f",
   "metadata": {},
   "outputs": [],
   "source": []
  }
 ],
 "metadata": {
  "kernelspec": {
   "display_name": "Go (gonb)",
   "language": "go",
   "name": "gonb"
  },
  "language_info": {
   "codemirror_mode": "",
   "file_extension": ".go",
   "mimetype": "",
   "name": "go",
   "nbconvert_exporter": "",
   "pygments_lexer": "",
   "version": "go1.20.4"
  }
 },
 "nbformat": 4,
 "nbformat_minor": 5
}
