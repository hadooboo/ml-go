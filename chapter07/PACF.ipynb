{
 "cells": [
  {
   "cell_type": "code",
   "execution_count": 1,
   "id": "10ec7ea2-0558-4df6-a6e9-3fccb9e8354b",
   "metadata": {},
   "outputs": [],
   "source": [
    "import (\n",
    "\t\"fmt\"\n",
    "\t\"log\"\n",
    "\t\"os\"\n",
    "\t\"strconv\"\n",
    "\n",
    "    \"github.com/go-gota/gota/dataframe\"\n",
    "\t\"github.com/sajari/regression\"\n",
    ")"
   ]
  },
  {
   "cell_type": "code",
   "execution_count": 2,
   "id": "f1e9fdd6-e707-40f6-a5fd-7e63b34ba0e4",
   "metadata": {},
   "outputs": [],
   "source": [
    "// pacf calculates the partial autocorrelation for a series\n",
    "// at the given lag.\n",
    "func pacf(x []float64, lag int) float64 {\n",
    "\n",
    "\t// Create a regresssion.Regression value needed to train\n",
    "\t// a model using github.com/sajari/regression.\n",
    "\tvar r regression.Regression\n",
    "\tr.SetObserved(\"x\")\n",
    "\n",
    "\t// Define the current lag and all of the intermediate lags.\n",
    "\tfor i := 0; i < lag; i++ {\n",
    "\t\tr.SetVar(i, \"x\"+strconv.Itoa(i))\n",
    "\t}\n",
    "\n",
    "\t// Shift the series.\n",
    "\txAdj := x[lag:len(x)]\n",
    "\n",
    "\t// Loop over the series creating the data set\n",
    "\t// for the regression.\n",
    "\tfor i, xVal := range xAdj {\n",
    "\n",
    "\t\t// Loop over the intermediate lags to build up\n",
    "\t\t// our independent variables.\n",
    "\t\tlaggedVariables := make([]float64, lag)\n",
    "\t\tfor idx := 1; idx <= lag; idx++ {\n",
    "\n",
    "\t\t\t// Get the lagged series variables.\n",
    "\t\t\tlaggedVariables[idx-1] = x[lag+i-idx]\n",
    "\t\t}\n",
    "\n",
    "\t\t// Add these points to the regression value.\n",
    "\t\tr.Train(regression.DataPoint(xVal, laggedVariables))\n",
    "\t}\n",
    "\n",
    "\t// Fit the regression.\n",
    "\tr.Run()\n",
    "\n",
    "\treturn r.Coeff(lag)\n",
    "}"
   ]
  },
  {
   "cell_type": "code",
   "execution_count": 3,
   "id": "504c85a7-64fa-4fe6-b4e7-6857de3a6016",
   "metadata": {},
   "outputs": [
    {
     "name": "stdout",
     "output_type": "stream",
     "text": [
      "Partial Autocorrelation:\n",
      "Lag 1 period: 0.96\n",
      "Lag 2 period: -0.33\n",
      "Lag 3 period: 0.20\n",
      "Lag 4 period: 0.15\n",
      "Lag 5 period: 0.26\n",
      "Lag 6 period: -0.03\n",
      "Lag 7 period: 0.20\n",
      "Lag 8 period: 0.16\n",
      "Lag 9 period: 0.57\n",
      "Lag 10 period: 0.29\n"
     ]
    }
   ],
   "source": [
    "func main() {\n",
    "\n",
    "\t// Open the CSV file.\n",
    "\tpassengersFile, err := os.Open(\"AirPassengers.csv\")\n",
    "\tif err != nil {\n",
    "\t\tlog.Fatal(err)\n",
    "\t}\n",
    "\tdefer passengersFile.Close()\n",
    "\n",
    "\t// Create a dataframe from the CSV file.\n",
    "\tpassengersDF := dataframe.ReadCSV(passengersFile)\n",
    "\n",
    "\t// Get the time and passengers as a slice of floats.\n",
    "\tpassengers := passengersDF.Col(\"AirPassengers\").Float()\n",
    "\n",
    "\t// Loop over various values of lag in the series.\n",
    "\tfmt.Println(\"Partial Autocorrelation:\")\n",
    "\tfor i := 1; i < 11; i++ {\n",
    "\n",
    "\t\t// Calculate the partial autocorrelation.\n",
    "\t\tpac := pacf(passengers, i)\n",
    "\t\tfmt.Printf(\"Lag %d period: %0.2f\\n\", i, pac)\n",
    "\t}\n",
    "}"
   ]
  },
  {
   "cell_type": "code",
   "execution_count": null,
   "id": "298c450e-d9cb-4744-b2aa-0f9132a14c1d",
   "metadata": {},
   "outputs": [],
   "source": []
  }
 ],
 "metadata": {
  "kernelspec": {
   "display_name": "Go (gonb)",
   "language": "go",
   "name": "gonb"
  },
  "language_info": {
   "codemirror_mode": "",
   "file_extension": ".go",
   "mimetype": "",
   "name": "go",
   "nbconvert_exporter": "",
   "pygments_lexer": "",
   "version": "go1.20.4"
  }
 },
 "nbformat": 4,
 "nbformat_minor": 5
}
